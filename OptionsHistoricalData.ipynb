{
 "cells": [
  {
   "cell_type": "code",
   "execution_count": 1,
   "id": "3eab7e3b",
   "metadata": {},
   "outputs": [],
   "source": [
    "from datetime import date\n",
    "from nsepy import get_history as gh\n",
    "import dateutil.relativedelta as dr\n",
    "import pandas as pd\n",
    "import xlsxwriter as xl\n",
    "import datetime as dt\n",
    "tradingsymbol = 'NIFTY'"
   ]
  },
  {
   "cell_type": "code",
   "execution_count": 2,
   "id": "e17672cd",
   "metadata": {},
   "outputs": [],
   "source": [
    "entry_date = date(2021, 4, 1)\n",
    "expirtydate = date(2021, 12, 30)\n",
    "end = dt.datetime.today()\n",
    "days = pd.date_range(entry_date, end,freq='d').value_counts().count()\n",
    "start = end - dr.relativedelta(days=int(days)-1)\n",
    "\n",
    "srtickprice = 17500\n",
    "lot_size = 500\n",
    "\n",
    "niftyCEData = gh(symbol=tradingsymbol,\n",
    "                     start=start,\n",
    "                     end=end,\n",
    "                     index=True,\n",
    "                     option_type=\"CE\",\n",
    "                     strike_price=srtickprice,\n",
    "                     expiry_date=expirtydate)"
   ]
  },
  {
   "cell_type": "code",
   "execution_count": 3,
   "id": "37de3eef",
   "metadata": {},
   "outputs": [],
   "source": [
    "niftyCEData.rename(columns = {'Close':'Close_CE','Option Type':'Option Type_CE'}, inplace = True)"
   ]
  },
  {
   "cell_type": "code",
   "execution_count": 4,
   "id": "210f6a9e",
   "metadata": {},
   "outputs": [],
   "source": [
    "niftyCEData =niftyCEData.loc[:,['Symbol', 'Strike Price', 'Close_CE','Expiry','Option Type_CE']].sort_index()"
   ]
  },
  {
   "cell_type": "code",
   "execution_count": 5,
   "id": "17c5ddc0",
   "metadata": {},
   "outputs": [],
   "source": [
    "niftyPEData = gh(symbol=tradingsymbol,\n",
    "                     start=start,\n",
    "                     end=end,\n",
    "                     index=True,\n",
    "                     option_type=\"PE\",\n",
    "                     strike_price=srtickprice,\n",
    "                     expiry_date=expirtydate)\n",
    "niftyPEData.rename(columns = {'Close':'Close_PE','Option Type':'Option Type_PE'}, inplace = True)\n",
    "\n",
    "niftyPEData = niftyPEData.loc[:,['Symbol', 'Strike Price', 'Close_PE','Expiry','Option Type_PE']].sort_index()"
   ]
  },
  {
   "cell_type": "code",
   "execution_count": 6,
   "id": "4037ef16",
   "metadata": {},
   "outputs": [],
   "source": [
    "file_name = 'MarksData.xlsx'\n",
    "result = pd.concat([niftyCEData, niftyPEData], axis=1)\n",
    "final = result.loc[:,~result.columns.duplicated()]\n",
    "final =final.loc[:,['Symbol','Expiry','Option Type_CE','Close_CE','Strike Price','Close_PE','Option Type_PE']]\n",
    "\n"
   ]
  },
  {
   "cell_type": "code",
   "execution_count": 7,
   "id": "ec6efada",
   "metadata": {},
   "outputs": [],
   "source": [
    "nifty_50 = gh(symbol=\"NIFTY\",\n",
    "                            start=start,\n",
    "                            end=end,\n",
    "                            index=True)\n",
    "nifty_50.rename(columns = {'Close':'Close_Nifty'}, inplace = True)\n",
    "nifty_50 = nifty_50.loc[:,['Close_Nifty','Volume']]\n",
    "options = pd.concat([final, nifty_50], axis=1)\n",
    "options['Total Premium'] = options['Close_CE'] + options['Close_PE']\n",
    "entrydate_prm =options.filter(items = [entry_date], axis=0)['Total Premium']\n",
    "options['Entry Date Prem'] = entrydate_prm.values[0]\n",
    "options['Profit/Loss per lot'] = (options['Entry Date Prem'] - options['Total Premium'])*lot_size"
   ]
  },
  {
   "cell_type": "code",
   "execution_count": 8,
   "id": "60cf674f",
   "metadata": {},
   "outputs": [],
   "source": [
    "vix = gh(symbol=\"INDIAVIX\",\n",
    "                  start=start,\n",
    "                  end=end,\n",
    "                  index=True)\n",
    "vix.rename(columns = {'Close':'Close_VIX'}, inplace = True)\n",
    "vix =vix.loc[:,['Close_VIX']].dropna()\n",
    "options_withVix = pd.concat([options, vix], axis=1).sort_index()"
   ]
  },
  {
   "cell_type": "code",
   "execution_count": 9,
   "id": "2857b4cd",
   "metadata": {},
   "outputs": [],
   "source": [
    "writer = pd.ExcelWriter(file_name, engine='xlsxwriter')"
   ]
  },
  {
   "cell_type": "code",
   "execution_count": 10,
   "id": "00d4de2b",
   "metadata": {},
   "outputs": [],
   "source": [
    "options_withVix.to_excel(writer, sheet_name='Sheet2')\n",
    "workbook  = writer.book\n",
    "worksheet = writer.sheets['Sheet2']\n",
    "\n",
    "cell_format = workbook.add_format()\n",
    "cell_format.set_border()\n",
    "cell_format.set_bg_color('green')\n",
    "cell_format.set_font_color('#FFFFFF')\n",
    "cell_format.set_font_size(12)\n",
    "\n",
    "\n",
    "cell_format1 = workbook.add_format()\n",
    "cell_format1.set_border()\n",
    "cell_format1.set_bg_color('#FF00FF')\n",
    "cell_format1.set_font_color('#FFFFFF')\n",
    "cell_format1.set_font_size(12)\n",
    "\n",
    "entrydate_format1 = workbook.add_format()\n",
    "entrydate_format1.set_border()\n",
    "entrydate_format1.set_bg_color('#CCFFCC')\n",
    "entrydate_format1.set_font_size(14)\n",
    "\n",
    "cell_format2 = workbook.add_format()\n",
    "cell_format2.set_bg_color('yellow')\n",
    "\n",
    "cell_format3 = workbook.add_format()\n",
    "cell_format3.set_border()\n",
    "cell_format3.set_bg_color('#000080')\n",
    "cell_format3.set_font_size(12)\n",
    "cell_format3.set_font_color('#FFFFFF')\n",
    "\n",
    "cell_format4 = workbook.add_format()\n",
    "cell_format4.set_border()\n",
    "cell_format4.set_bg_color('#800000')\n",
    "cell_format4.set_font_size(12)\n",
    "cell_format4.set_font_color('#FFFFFF')\n",
    "\n",
    "cell_format5 = workbook.add_format()\n",
    "cell_format5.set_border()\n",
    "cell_format5.set_font_size(12)\n",
    "cell_format5.set_font_color('red')\n",
    "\n",
    "worksheet.set_column('A:N', 18, cell_format2)\n",
    "worksheet.set_column('E:E', 18, cell_format)\n",
    "worksheet.set_column('G:G', 18, cell_format1)\n",
    "worksheet.set_column('I:I', 18, cell_format3)\n",
    "worksheet.set_column('M:M', 18, cell_format4)\n",
    "worksheet.set_column('N:N', 18, cell_format5)\n",
    "worksheet.freeze_panes(1, 0)\n",
    "worksheet.write_comment('A2', 'Entry Trade date', {'font_size': 14, 'color': '#CCFFCC'})\n",
    "\n",
    "worksheet.autofilter('A1:N500')\n",
    "\n",
    "worksheet.conditional_format('A1:A500', {'type': 'date',\n",
    "                                        'criteria': '==',\n",
    "                                        'value':    entry_date,\n",
    "                                        'format':   entrydate_format1})\n",
    "writer.save()\n"
   ]
  }
 ],
 "metadata": {
  "kernelspec": {
   "display_name": "Python 3 (ipykernel)",
   "language": "python",
   "name": "python3"
  },
  "language_info": {
   "codemirror_mode": {
    "name": "ipython",
    "version": 3
   },
   "file_extension": ".py",
   "mimetype": "text/x-python",
   "name": "python",
   "nbconvert_exporter": "python",
   "pygments_lexer": "ipython3",
   "version": "3.8.4"
  }
 },
 "nbformat": 4,
 "nbformat_minor": 5
}
